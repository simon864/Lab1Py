{
 "cells": [
  {
   "cell_type": "markdown",
   "metadata": {},
   "source": [
    "# Лабораторная работа 1"
   ]
  },
  {
   "cell_type": "markdown",
   "metadata": {},
   "source": [
    "### №1\n",
    "Напишите программу, которая считывает с клавиатуры последовательно три строки:\n",
    "название фильма, название кинотеатра и время, после чего выводит на экран «Билет на \"\n",
    "[название фильма] \" в \" [название кинотеатра] \" на [время] забронирован.».\n"
   ]
  },
  {
   "cell_type": "code",
   "execution_count": null,
   "metadata": {},
   "outputs": [
    {
     "name": "stdout",
     "output_type": "stream",
     "text": [
      "Билет на  в аа на аа забронирован.\n"
     ]
    }
   ],
   "source": [
    "name_movie = input(\"Введите название фильма:\")\n",
    "name_cinema = input(\"Введите название кинотеатра:\")\n",
    "time_movie = input(\"Введите время сеанса:\")\n",
    "\n",
    "print(f\"Билет на {name_movie} в {name_cinema} на {time_movie} забронирован.\")"
   ]
  },
  {
   "cell_type": "markdown",
   "metadata": {},
   "source": [
    "### №2\n",
    "Напишите программу, которая считывает две строки и выводит «ВЕРНО», если в каждой из\n",
    "них записано или слово только да, или только слово нет (в любой комбинации). Если это не\n",
    "так, выведите «НЕВЕРНО».\n"
   ]
  },
  {
   "cell_type": "code",
   "execution_count": null,
   "metadata": {},
   "outputs": [
    {
     "name": "stdout",
     "output_type": "stream",
     "text": [
      "НЕВЕРНО\n"
     ]
    }
   ],
   "source": [
    "first_row = input(\"Введите первую строку:\")\n",
    "second_row= input(\"Введите вторую строку:\")\n",
    "\n",
    "valid = True\n",
    "\n",
    "words1 = first_row.split()\n",
    "for word in words1:\n",
    "    if word != \"да\" and word != \"нет\":\n",
    "        valid = False\n",
    "        break\n",
    "\n",
    "words2 = second_row.split()\n",
    "if valid:\n",
    "    for word in words2:\n",
    "        if word != \"да\" and word != \"нет\":\n",
    "            valid = False\n",
    "            break\n",
    "\n",
    "if valid:\n",
    "    print(\"ВЕРНО\")\n",
    "else:\n",
    "    print(\"НЕВЕРНО\")\n"
   ]
  },
  {
   "cell_type": "markdown",
   "metadata": {},
   "source": [
    "### №3\n",
    "Напишите программу, которая проверяет, что пользователь ввёл корректный логин (не\n",
    "содержащий символ «@») и корректный резервный адрес (содержащий символ «@»). Иных\n",
    "проверок, кроме указанных здесь, выполнять не надо.\n",
    "Используйте оператор in."
   ]
  },
  {
   "cell_type": "code",
   "execution_count": null,
   "metadata": {},
   "outputs": [
    {
     "name": "stdout",
     "output_type": "stream",
     "text": [
      "Некорректно\n"
     ]
    }
   ],
   "source": [
    "login = input(\"Введите логин:\")\n",
    "backup_email = input(\"Ввеите резервный адрес:\")\n",
    "\n",
    "if \"@\" not in login and \"@\" in backup_email:\n",
    "    print(\"Корректно\")\n",
    "else:\n",
    "    print(\"Некорректно\")"
   ]
  },
  {
   "cell_type": "markdown",
   "metadata": {},
   "source": [
    "### №4\n",
    "Напишите программу, которая считывает рост претендентов в отряд космонавтов до тех пор,\n",
    "пока не будет введен «!». А затем выводит на первой строчке количество подходящих\n",
    "кандидатур, а на второй строке – минимальный и максимальный рост участников,\n",
    "отобранных в новый отряд космонавтов. Рост космонавта не может быть больше 190 см и\n",
    "меньше 150 см."
   ]
  },
  {
   "cell_type": "code",
   "execution_count": 3,
   "metadata": {},
   "outputs": [
    {
     "name": "stdout",
     "output_type": "stream",
     "text": [
      "Неверный ввод. введите цифру или !.\n",
      "Неверный ввод. введите цифру или !.\n",
      "Неверный ввод. введите цифру или !.\n",
      "Неверный ввод. введите цифру или !.\n",
      "Неверный ввод. введите цифру или !.\n",
      "Неверный ввод. введите цифру или !.\n",
      "Неверный ввод. введите цифру или !.\n",
      "Неверный ввод. введите цифру или !.\n",
      "Неверный ввод. введите цифру или !.\n",
      "Неверный ввод. введите цифру или !.\n",
      "Неверный ввод. введите цифру или !.\n",
      "Неверный ввод. введите цифру или !.\n",
      "Неверный ввод. введите цифру или !.\n",
      "Неверный ввод. введите цифру или !.\n",
      "Неверный ввод. введите цифру или !.\n",
      "Неверный ввод. введите цифру или !.\n",
      "Неверный ввод. введите цифру или !.\n",
      "Неверный ввод. введите цифру или !.\n"
     ]
    },
    {
     "ename": "KeyboardInterrupt",
     "evalue": "Interrupted by user",
     "output_type": "error",
     "traceback": [
      "\u001b[1;31m---------------------------------------------------------------------------\u001b[0m",
      "\u001b[1;31mKeyboardInterrupt\u001b[0m                         Traceback (most recent call last)",
      "Cell \u001b[1;32mIn[3], line 3\u001b[0m\n\u001b[0;32m      1\u001b[0m heights \u001b[38;5;241m=\u001b[39m []\n\u001b[0;32m      2\u001b[0m \u001b[38;5;28;01mwhile\u001b[39;00m \u001b[38;5;28;01mTrue\u001b[39;00m:\n\u001b[1;32m----> 3\u001b[0m     height_str \u001b[38;5;241m=\u001b[39m \u001b[38;5;28;43minput\u001b[39;49m\u001b[43m(\u001b[49m\u001b[38;5;124;43m\"\u001b[39;49m\u001b[38;5;124;43mВведите рост в см или введите ! что бы закончить \u001b[39;49m\u001b[38;5;124;43m\"\u001b[39;49m\u001b[43m)\u001b[49m\n\u001b[0;32m      4\u001b[0m     \u001b[38;5;28;01mif\u001b[39;00m height_str \u001b[38;5;241m==\u001b[39m \u001b[38;5;124m\"\u001b[39m\u001b[38;5;124m!\u001b[39m\u001b[38;5;124m\"\u001b[39m:\n\u001b[0;32m      5\u001b[0m         \u001b[38;5;28;01mbreak\u001b[39;00m\n",
      "File \u001b[1;32mc:\\Users\\katev\\OneDrive\\Рабочий стол\\питоне\\env\\Lib\\site-packages\\ipykernel\\kernelbase.py:1282\u001b[0m, in \u001b[0;36mKernel.raw_input\u001b[1;34m(self, prompt)\u001b[0m\n\u001b[0;32m   1280\u001b[0m     msg \u001b[38;5;241m=\u001b[39m \u001b[38;5;124m\"\u001b[39m\u001b[38;5;124mraw_input was called, but this frontend does not support input requests.\u001b[39m\u001b[38;5;124m\"\u001b[39m\n\u001b[0;32m   1281\u001b[0m     \u001b[38;5;28;01mraise\u001b[39;00m StdinNotImplementedError(msg)\n\u001b[1;32m-> 1282\u001b[0m \u001b[38;5;28;01mreturn\u001b[39;00m \u001b[38;5;28;43mself\u001b[39;49m\u001b[38;5;241;43m.\u001b[39;49m\u001b[43m_input_request\u001b[49m\u001b[43m(\u001b[49m\n\u001b[0;32m   1283\u001b[0m \u001b[43m    \u001b[49m\u001b[38;5;28;43mstr\u001b[39;49m\u001b[43m(\u001b[49m\u001b[43mprompt\u001b[49m\u001b[43m)\u001b[49m\u001b[43m,\u001b[49m\n\u001b[0;32m   1284\u001b[0m \u001b[43m    \u001b[49m\u001b[38;5;28;43mself\u001b[39;49m\u001b[38;5;241;43m.\u001b[39;49m\u001b[43m_parent_ident\u001b[49m\u001b[43m[\u001b[49m\u001b[38;5;124;43m\"\u001b[39;49m\u001b[38;5;124;43mshell\u001b[39;49m\u001b[38;5;124;43m\"\u001b[39;49m\u001b[43m]\u001b[49m\u001b[43m,\u001b[49m\n\u001b[0;32m   1285\u001b[0m \u001b[43m    \u001b[49m\u001b[38;5;28;43mself\u001b[39;49m\u001b[38;5;241;43m.\u001b[39;49m\u001b[43mget_parent\u001b[49m\u001b[43m(\u001b[49m\u001b[38;5;124;43m\"\u001b[39;49m\u001b[38;5;124;43mshell\u001b[39;49m\u001b[38;5;124;43m\"\u001b[39;49m\u001b[43m)\u001b[49m\u001b[43m,\u001b[49m\n\u001b[0;32m   1286\u001b[0m \u001b[43m    \u001b[49m\u001b[43mpassword\u001b[49m\u001b[38;5;241;43m=\u001b[39;49m\u001b[38;5;28;43;01mFalse\u001b[39;49;00m\u001b[43m,\u001b[49m\n\u001b[0;32m   1287\u001b[0m \u001b[43m\u001b[49m\u001b[43m)\u001b[49m\n",
      "File \u001b[1;32mc:\\Users\\katev\\OneDrive\\Рабочий стол\\питоне\\env\\Lib\\site-packages\\ipykernel\\kernelbase.py:1325\u001b[0m, in \u001b[0;36mKernel._input_request\u001b[1;34m(self, prompt, ident, parent, password)\u001b[0m\n\u001b[0;32m   1322\u001b[0m \u001b[38;5;28;01mexcept\u001b[39;00m \u001b[38;5;167;01mKeyboardInterrupt\u001b[39;00m:\n\u001b[0;32m   1323\u001b[0m     \u001b[38;5;66;03m# re-raise KeyboardInterrupt, to truncate traceback\u001b[39;00m\n\u001b[0;32m   1324\u001b[0m     msg \u001b[38;5;241m=\u001b[39m \u001b[38;5;124m\"\u001b[39m\u001b[38;5;124mInterrupted by user\u001b[39m\u001b[38;5;124m\"\u001b[39m\n\u001b[1;32m-> 1325\u001b[0m     \u001b[38;5;28;01mraise\u001b[39;00m \u001b[38;5;167;01mKeyboardInterrupt\u001b[39;00m(msg) \u001b[38;5;28;01mfrom\u001b[39;00m\u001b[38;5;250m \u001b[39m\u001b[38;5;28;01mNone\u001b[39;00m\n\u001b[0;32m   1326\u001b[0m \u001b[38;5;28;01mexcept\u001b[39;00m \u001b[38;5;167;01mException\u001b[39;00m:\n\u001b[0;32m   1327\u001b[0m     \u001b[38;5;28mself\u001b[39m\u001b[38;5;241m.\u001b[39mlog\u001b[38;5;241m.\u001b[39mwarning(\u001b[38;5;124m\"\u001b[39m\u001b[38;5;124mInvalid Message:\u001b[39m\u001b[38;5;124m\"\u001b[39m, exc_info\u001b[38;5;241m=\u001b[39m\u001b[38;5;28;01mTrue\u001b[39;00m)\n",
      "\u001b[1;31mKeyboardInterrupt\u001b[0m: Interrupted by user"
     ]
    }
   ],
   "source": [
    "heights = []\n",
    "while True:\n",
    "    height_str = input(\"Введите рост в см или введите ! что бы закончить \")\n",
    "    if height_str == \"!\":\n",
    "        break\n",
    "    try:\n",
    "        height = float(height_str)\n",
    "        if 150 <= height <= 190:\n",
    "            heights.append(height)\n",
    "        else:\n",
    "            print(\"Рост находится за пределами допустимого диапазона (150-190 см)\")\n",
    "    except ValueError:\n",
    "        print(\"Неверный ввод. введите цифру или !.\")\n",
    "\n",
    "count = len(heights)\n",
    "if count > 0:\n",
    "    min_height = min(heights)\n",
    "    max_height = max(heights)\n",
    "    print(f\"Количество подходящих каднидатур {count}\")\n",
    "    print(f\"Минимальный рост кандидата: {min_height}, \\nМаксимальный рост кандидата: {max_height}\")\n",
    "else:\n",
    "    print(0)\n",
    "    print(\"Не введены допустимые высоты\")"
   ]
  },
  {
   "cell_type": "markdown",
   "metadata": {},
   "source": [
    "### №5\n",
    "Напишите программу, которая имитирует проверку пароля, придуманного пользователем.\n",
    "Пользователь вводит пару слов: пароль, а потом ещё раз его же, для подтверждения.\n",
    "Если введённая пара не удовлетворяет одному из перечисленных ниже условий,\n",
    "пользователь вводит пару паролей ещё раз, и так до тех пор, пока не будут выполнены все\n",
    "условия (т. е. пока программа не выведет «OK»).\n",
    "1.если первый пароль из пары, который ввёл пользователь короче 8 символов,\n",
    "программа выводит на экран слово \"Короткий!\" и заново считывает пару словпаролей;\n",
    "2.если же первый пароль из пары достаточно длинный, но в нём содержится сочетание\n",
    "символов \"123\", программа выводит на экран слово \"Простой!\" и снова читает пару\n",
    "слов-паролей;\n",
    "3.если же предыдущие проверки пройдены успешно, но введённые слова-пароли не\n",
    "совпадают, то программа выводит на экран слово \"Различаются.\" и опять же читает\n",
    "пару слов-паролей;\n",
    "4.если же и третья проверка пройдена успешно, программа выводит \"OK\" (латинскими\n",
    "буквами) и заканчивает свою работу.\n"
   ]
  },
  {
   "cell_type": "code",
   "execution_count": null,
   "metadata": {},
   "outputs": [
    {
     "name": "stdout",
     "output_type": "stream",
     "text": [
      "Короткий!\n",
      "Короткий!\n",
      "Короткий!\n",
      "Короткий!\n",
      "Короткий!\n",
      "Короткий!\n",
      "Короткий!\n",
      "Короткий!\n",
      "Короткий!\n",
      "Короткий!\n",
      "Короткий!\n",
      "Короткий!\n",
      "Короткий!\n",
      "Короткий!\n",
      "Короткий!\n",
      "Короткий!\n",
      "Короткий!\n",
      "Короткий!\n",
      "Короткий!\n",
      "Короткий!\n",
      "Короткий!\n",
      "Короткий!\n",
      "Короткий!\n",
      "Короткий!\n",
      "Короткий!\n",
      "Короткий!\n",
      "Короткий!\n",
      "Короткий!\n"
     ]
    }
   ],
   "source": [
    "while True:\n",
    "    password = input(\"Введите пароль: \")\n",
    "    confirmation = input(\"Подтвердите пароль: \")\n",
    "\n",
    "    if len(password) < 8:\n",
    "        print(\"Короткий!\")\n",
    "    elif \"123\" in password:\n",
    "        print(\"Простой!\")\n",
    "    elif password != confirmation:\n",
    "        print(\"Различаются.\")\n",
    "    else:\n",
    "        print(\"OK\")\n",
    "        break"
   ]
  },
  {
   "cell_type": "markdown",
   "metadata": {},
   "source": [
    "### №6\n",
    "Выведите пирамиду из символов «*» заданной высоты."
   ]
  },
  {
   "cell_type": "code",
   "execution_count": 7,
   "metadata": {},
   "outputs": [
    {
     "name": "stdout",
     "output_type": "stream",
     "text": [
      "    *\n",
      "   ***\n",
      "  *****\n",
      " *******\n",
      "*********\n"
     ]
    }
   ],
   "source": [
    "height = int(input(\"Введите высоту:\"))\n",
    "\n",
    "for i in range(height):\n",
    "  print(\" \" * (height - i - 1) + \"*\" * (2*i + 1))"
   ]
  },
  {
   "cell_type": "markdown",
   "metadata": {},
   "source": [
    "### №7\n",
    "Напишите программу, принимающую на вход целое положительное число N, и выводящую\n",
    "на экран последовательность от 1 до N «ёлочкой»."
   ]
  },
  {
   "cell_type": "code",
   "execution_count": 8,
   "metadata": {},
   "outputs": [
    {
     "name": "stdout",
     "output_type": "stream",
     "text": [
      "1 \n",
      "2 3 \n",
      "4 5 6 \n",
      "7 8 9 10 \n",
      "11 12 13 14 15 \n",
      "16 17 18 19 20 21 \n",
      "22 23 24 25 26 27 28 \n",
      "29 30 31 32 33 34 35 36 \n",
      "37 38 39 40 41 42 43 44 45 \n",
      "46 47 48 49 50 51 52 53 54 55 \n",
      "56 57 58 59 60 61 62 63 64 65 66 \n",
      "67 68 69 70 71 72 73 74 75 76 77 78 \n",
      "79 80 81 82 83 84 85 86 87 88 89 90 91 \n",
      "92 93 94 95 96 97 98 99 100 101 102 103 104 105 \n",
      "106 107 108 109 110 111 112 113 114 115 116 117 118 119 120 \n",
      "121 122 123 \n",
      "\n",
      "\n",
      "\n",
      "\n",
      "\n",
      "\n",
      "\n",
      "\n",
      "\n",
      "\n",
      "\n",
      "\n",
      "\n",
      "\n",
      "\n",
      "\n",
      "\n",
      "\n",
      "\n",
      "\n",
      "\n",
      "\n",
      "\n",
      "\n",
      "\n",
      "\n",
      "\n",
      "\n",
      "\n",
      "\n",
      "\n",
      "\n",
      "\n",
      "\n",
      "\n",
      "\n",
      "\n",
      "\n",
      "\n",
      "\n",
      "\n",
      "\n",
      "\n",
      "\n",
      "\n",
      "\n",
      "\n",
      "\n",
      "\n",
      "\n",
      "\n",
      "\n",
      "\n",
      "\n",
      "\n",
      "\n",
      "\n",
      "\n",
      "\n",
      "\n",
      "\n",
      "\n",
      "\n",
      "\n",
      "\n",
      "\n",
      "\n",
      "\n",
      "\n",
      "\n",
      "\n",
      "\n",
      "\n",
      "\n",
      "\n",
      "\n",
      "\n",
      "\n",
      "\n",
      "\n",
      "\n",
      "\n",
      "\n",
      "\n",
      "\n",
      "\n",
      "\n",
      "\n",
      "\n",
      "\n",
      "\n",
      "\n",
      "\n",
      "\n",
      "\n",
      "\n",
      "\n",
      "\n",
      "\n",
      "\n",
      "\n",
      "\n",
      "\n",
      "\n",
      "\n",
      "\n",
      "\n"
     ]
    }
   ],
   "source": [
    "n = int(input(\"Введите число:\"))\n",
    "num = 1\n",
    "for i in range(1, n + 1):\n",
    "    for j in range(i):\n",
    "        if num <= n:\n",
    "            print(num, end=\" \")\n",
    "            num += 1\n",
    "        else:\n",
    "            break\n",
    "    print()"
   ]
  },
  {
   "cell_type": "markdown",
   "metadata": {},
   "source": [
    "### №8\n",
    "Делаем срезы"
   ]
  },
  {
   "cell_type": "code",
   "execution_count": 12,
   "metadata": {},
   "outputs": [
    {
     "name": "stdout",
     "output_type": "stream",
     "text": [
      "а\n",
      "а\n",
      "ппапа\n",
      "ппап\n",
      "паа\n",
      "ппр\n",
      "рапапп\n",
      "рпп\n",
      "6\n"
     ]
    }
   ],
   "source": [
    "line = input(\"Введите строку:\")\n",
    "\n",
    "print(line[2])\n",
    "print(line[len(line)-2])\n",
    "print(line[:5])\n",
    "print(line[:-2])\n",
    "print(line[::2])\n",
    "print(line[1::2])\n",
    "print(line[::-1])\n",
    "print(line[::-2])\n",
    "print(len(line))"
   ]
  },
  {
   "cell_type": "markdown",
   "metadata": {},
   "source": [
    "### N9\n",
    "Первое и последнее вхождения"
   ]
  },
  {
   "cell_type": "code",
   "execution_count": 14,
   "metadata": {},
   "outputs": [
    {
     "name": "stdout",
     "output_type": "stream",
     "text": [
      "0 5\n"
     ]
    }
   ],
   "source": [
    "s = input(\"Введите строку:\")\n",
    "first_occurrence = s.find('f')\n",
    "\n",
    "if first_occurrence != -1:\n",
    "    last_occurrence = s.rfind('f')\n",
    "\n",
    "    if first_occurrence == last_occurrence:\n",
    "        print(first_occurrence)\n",
    "    else:\n",
    "        print(first_occurrence, last_occurrence)"
   ]
  },
  {
   "cell_type": "markdown",
   "metadata": {},
   "source": [
    "### №10\n",
    "Пользователь (или несколько пользователей за одним компьютером) вводит слова. Начиная\n",
    "со второго введённого слова, программа проверяет, совпадает ли первая буква\n",
    "свежевведённого слова с последней буквой предыдущего. Если да, то программа работает\n",
    "дальше (считывает очередное слово). Если нет — выводит последнее на этот момент\n",
    "введённое слово и завершает работу."
   ]
  },
  {
   "cell_type": "code",
   "execution_count": 16,
   "metadata": {},
   "outputs": [
    {
     "name": "stdout",
     "output_type": "stream",
     "text": [
      "Последнее введенное слово: Рука\n"
     ]
    }
   ],
   "source": [
    "def word_game():\n",
    "    \n",
    "    previous_word = input(\"Введите первое слово: \")\n",
    "    while True:\n",
    "        current_word = input(\"Введите следующее слово: \")\n",
    "        if current_word:\n",
    "            if previous_word[-1].lower() == current_word[0].lower():\n",
    "                previous_word = current_word\n",
    "            else:\n",
    "                print(f\"Последнее введенное слово: {current_word}\") \n",
    "                break\n",
    "        else:\n",
    "            print(f\"Последнее введенное слово: {previous_word}\")\n",
    "            break\n",
    "word_game()"
   ]
  },
  {
   "cell_type": "markdown",
   "metadata": {},
   "source": [
    "### №11\n",
    "Выведите слово так, как будто ему что-то мешает произноситься. Каждую букву нужно\n",
    "вывести столько раз, каков ее номер в строке."
   ]
  },
  {
   "cell_type": "code",
   "execution_count": 17,
   "metadata": {},
   "outputs": [
    {
     "name": "stdout",
     "output_type": "stream",
     "text": [
      "чеебббуууурррррккккккеееееее\n"
     ]
    }
   ],
   "source": [
    "def stutter_word(word):\n",
    "    \n",
    "    result = \"\"\n",
    "    for i, char in enumerate(word):\n",
    "        result += char * (i + 1) \n",
    "    print(result)\n",
    "\n",
    "user_word = input(\"Введите слово: \")\n",
    "stutter_word(user_word)"
   ]
  },
  {
   "cell_type": "markdown",
   "metadata": {},
   "source": [
    "### №13\n",
    "Изобразите извилистый спуск улитки по стене по заданной траектории. Вводится одна строка. Начальный символ этой строки — символ рисования пути улитки. Далее следует последовательность символов “<”, “>” и “V”, которые означают движение улитки, соответственно, влево, вправо и вниз. Гарантируется, что по любой горизонтали движение происходит только в одну сторону (иными словами, между идущими в любом порядке “<” и “>” всегда есть хотя бы один “V”) и что путь не пройдёт левее начального положения. Выводятся несколько строк, состоящих из символов рисования пути и пробелов. Верхний левый угол соответствует начальному положению улитки. Каждый последующий символ входной строки означает, что нужно дорисовать символ рисования пути левее, правее или ниже предыдущего. Пробелы используются для отступов."
   ]
  },
  {
   "cell_type": "code",
   "execution_count": 1,
   "metadata": {},
   "outputs": [
    {
     "name": "stdout",
     "output_type": "stream",
     "text": [
      "Невозможный ход! Нельзя пойти противоположную сторону в рамках одной строки!\n",
      "Введиите путь используя только символы < > V. В начале должен быть символ для отрисовки пути!\n",
      "Ваш путь: >>>VV<<\n",
      "gggg\n",
      "   g\n",
      " ggg\n"
     ]
    }
   ],
   "source": [
    "import re\n",
    "\n",
    "def snail_path():\n",
    "    string = input(\"Введит путь используя символы < > V. И один в начале на ваше усмотрение:\\n\")\n",
    "\n",
    "    pattern = fr'^{string[0]}[<>V]*$'\n",
    "    is_match = re.match(pattern, string)\n",
    "\n",
    "    if not is_match:\n",
    "        print(\"Введиите путь используя только символы < > V. В начале должен быть символ для отрисовки пути!\")\n",
    "        snail_path()\n",
    "        return\n",
    "\n",
    "    if '<>' in string or '><' in string:\n",
    "        print(\"Невозможный ход! Нельзя пойти противоположную сторону в рамках одной строки!\")\n",
    "        snail_path()\n",
    "        return\n",
    "\n",
    "    symbol = string[0]\n",
    "    path = string[1:]\n",
    "\n",
    "    print(\"Ваш путь: \" + path)\n",
    "\n",
    "    count_spaces = 0\n",
    "\n",
    "    row_path = symbol\n",
    "\n",
    "    for symbol_path in path:\n",
    "        match symbol_path:\n",
    "            case '<':\n",
    "                if count_spaces == 0:\n",
    "                    print(row_path)\n",
    "                    print(\"Путь прерван! Невозможный ход: применён символ < у левого края\")\n",
    "                    return\n",
    "                \n",
    "                count_spaces -= 1\n",
    "                row_path = \" \" * count_spaces + symbol + row_path.strip()\n",
    "            case '>':\n",
    "                row_path += symbol\n",
    "                count_spaces += 1\n",
    "            case 'V':\n",
    "                print(row_path)\n",
    "                row_path = \" \" * count_spaces + symbol\n",
    "\n",
    "    \n",
    "    print(row_path)\n",
    "    \n",
    "snail_path()"
   ]
  },
  {
   "cell_type": "markdown",
   "metadata": {},
   "source": [
    "### №13\n",
    "Дан список чисел. Выведите все элементы списка, которые больше предыдущего элемента"
   ]
  },
  {
   "cell_type": "code",
   "execution_count": 5,
   "metadata": {},
   "outputs": [
    {
     "name": "stdout",
     "output_type": "stream",
     "text": [
      "Вводите числа для списка (чтобы прекратить напишите \"!\"): \n",
      "Содержание строки – не число!\n",
      "Содержание строки – не число!\n",
      "Список сформирован: \n",
      "1234645 34 3534 345 123 325 235\n",
      "3534 325\n"
     ]
    }
   ],
   "source": [
    "from createList import create_list\n",
    "\n",
    "numbers = list(create_list())\n",
    "new_numbers = []\n",
    "\n",
    "for index in range(1, len(numbers)):\n",
    "    if numbers[index] > numbers[index - 1]:\n",
    "        new_numbers.append(numbers[index])\n",
    "\n",
    "if len(new_numbers) == 0:\n",
    "    print(\"Нет таких элементов!\")\n",
    "else:\n",
    "    print(*new_numbers)"
   ]
  },
  {
   "cell_type": "markdown",
   "metadata": {},
   "source": [
    "### №14\n",
    "Переставьте соседние элементы списка (A[0] с A[1], А[2] с A[3] и т.д.). Если элементов нечётное число, то последний элемент остаётся на своём месте."
   ]
  },
  {
   "cell_type": "code",
   "execution_count": 2,
   "metadata": {},
   "outputs": [
    {
     "name": "stdout",
     "output_type": "stream",
     "text": [
      "Вводите числа для списка (чтобы прекратить напишите \"!\"): \n",
      "Список сформирован: \n",
      "3 5 3 6 6\n",
      "[5, 3, 6, 3, 6]\n"
     ]
    }
   ],
   "source": [
    "from createList import create_list\n",
    "\n",
    "def swap_adjacent_elements(list: list):\n",
    "    for i in range(0, len(list) - 1, 2):\n",
    "        list[i], list[i + 1] = list[i + 1], list[i]\n",
    "    return list\n",
    "\n",
    "list = create_list()\n",
    "swapped_list = swap_adjacent_elements(list)\n",
    "\n",
    "print(swapped_list)"
   ]
  },
  {
   "cell_type": "markdown",
   "metadata": {},
   "source": [
    "### №15\n",
    "Напишите программу, которая составляет новое предложение по номерам слов из исходной строки. Предложение должно начинаться с большой буквы. Гарантируется, что в исходной строке только одна заглавная буква (в начале предложения). Нумерация слов начинается с единицы."
   ]
  },
  {
   "cell_type": "code",
   "execution_count": 1,
   "metadata": {},
   "outputs": [
    {
     "name": "stdout",
     "output_type": "stream",
     "text": [
      "Вводите числа для списка (чтобы прекратить напишите \"!\"): \n",
      "Содержание строки – не число!\n",
      "Список сформирован: \n",
      "2\n",
      "Введите строку из минимум 2 слов\n",
      "Слов меньше чем максимальное число массива!\n",
      "Ваш текст:\n",
      "абоба абобус\n",
      "Абобус\n"
     ]
    }
   ],
   "source": [
    "import sys\n",
    "from createList import create_list\n",
    "\n",
    "numbers = create_list()\n",
    "if 0 in numbers:\n",
    "    print(\"*Пустая строка*\")\n",
    "    sys.exit()\n",
    "    \n",
    "min_words = max(numbers)\n",
    "\n",
    "print(f\"Введите строку из минимум { min_words } слов\")\n",
    "\n",
    "words = []\n",
    "\n",
    "while True:\n",
    "    text = input(\"Введите текст: \")\n",
    "    words = text.split(\" \")\n",
    "\n",
    "    if len(words) < min_words:\n",
    "        print(\"Слов меньше чем максимальное число массива!\")\n",
    "    else:\n",
    "        print(\"Ваш текст:\\n\" + text)\n",
    "        break\n",
    "\n",
    "result_text = \"\"\n",
    "\n",
    "for number in numbers:\n",
    "    result_text += words[number - 1] + \" \"\n",
    "\n",
    "result_text = result_text.strip().lower().capitalize()\n",
    "\n",
    "print(result_text)"
   ]
  },
  {
   "cell_type": "markdown",
   "metadata": {},
   "source": [
    "### №16\n",
    "Дан список чисел. Определите сколько в нём встречается различных чисел.\n",
    "Можно решить в одну строчку."
   ]
  },
  {
   "cell_type": "code",
   "execution_count": 2,
   "metadata": {},
   "outputs": [
    {
     "name": "stdout",
     "output_type": "stream",
     "text": [
      "Вводите числа для списка (чтобы прекратить напишите \"!\"): \n",
      "Список сформирован: \n",
      "23 24 11\n",
      "Количество различных чисел: 3\n"
     ]
    }
   ],
   "source": [
    "numbers = create_list()\n",
    "\n",
    "print(\"Количество различных чисел: \" + str(len(set(numbers))))"
   ]
  },
  {
   "cell_type": "markdown",
   "metadata": {},
   "source": [
    "### №17\n",
    "Даны два списка чисел. Посчитайте сколько чисел содержится одновременно как в первом списке, так и во втором.\n",
    "Можно решить в одну строчку."
   ]
  },
  {
   "cell_type": "code",
   "execution_count": 3,
   "metadata": {},
   "outputs": [
    {
     "name": "stdout",
     "output_type": "stream",
     "text": [
      "Вводите числа для списка (чтобы прекратить напишите \"!\"): \n",
      "Список сформирован: \n",
      "14 234 22 55\n",
      "Вводите числа для списка (чтобы прекратить напишите \"!\"): \n",
      "Список сформирован: \n",
      "55 333 22\n",
      "2\n"
     ]
    }
   ],
   "source": [
    "numbers1 = create_list()\n",
    "numbers2 = create_list()\n",
    "\n",
    "print(len(set(numbers1) & set(numbers2)))"
   ]
  },
  {
   "cell_type": "markdown",
   "metadata": {},
   "source": [
    "### №18\n",
    "Дан текст: в первой строке записано число строк, далее идут сами строки. Определите сколько различных слов содержится в этом тексте.\n",
    "Словом считается последовательность непробельных символов идущих подряд, слова разделены одним или большим числом пробелов или символами конца строки."
   ]
  },
  {
   "cell_type": "code",
   "execution_count": 4,
   "metadata": {},
   "outputs": [
    {
     "name": "stdout",
     "output_type": "stream",
     "text": [
      "Количество различных слов: 3\n"
     ]
    }
   ],
   "source": [
    "from toNumber import to_number\n",
    "\n",
    "n = to_number(input(\"Введите количество строк: \"))\n",
    "text = [input() for _ in range(n)]\n",
    "\n",
    "unique_words = []\n",
    "\n",
    "for line in text:\n",
    "    for word in line.split():\n",
    "        unique_words.append(word)\n",
    "\n",
    "print(f\"Количество различных слов: {len(set(unique_words))}\")"
   ]
  },
  {
   "cell_type": "markdown",
   "metadata": {},
   "source": [
    "### №19\n",
    "В единственной строке записан текст. Для каждого слова из данного текста подсчитайте, сколько раз оно встречалось в этом тексте ранее.\n",
    "Словом считается последовательность непробельных символов идущих подряд, слова разделены одним или большим числом пробелов или символами конца строки."
   ]
  },
  {
   "cell_type": "code",
   "execution_count": 5,
   "metadata": {},
   "outputs": [
    {
     "name": "stdout",
     "output_type": "stream",
     "text": [
      "{'Абоба': 2, 'шла': 1, 'туда': 1, 'то': 1, 'и': 1, 'разбилась': 1}\n"
     ]
    }
   ],
   "source": [
    "string = input(\"Введите текст: \")\n",
    "\n",
    "words = string.split()\n",
    "\n",
    "words_dict = {}\n",
    "\n",
    "for word in words:\n",
    "    words_dict[word] = words_dict.get(word, 0) + 1\n",
    "\n",
    "print(words_dict)"
   ]
  },
  {
   "cell_type": "markdown",
   "metadata": {},
   "source": [
    "### №20\n",
    "Вам дан словарь, состоящий из пар слов. Каждое слово является синонимом к парному ему. Все слова в словаре различны.\n",
    "Для слова из словаря, записанного в последней строке, определите его синоним."
   ]
  },
  {
   "cell_type": "code",
   "execution_count": 7,
   "metadata": {},
   "outputs": [],
   "source": [
    "synonyms = {\n",
    "    \"работа\": \"отдых\",\n",
    "    \"спать\": \"бодрствовать\",\n",
    "    \"кот\": \"кошка\",\n",
    "    \"злой\": \"добрый\",\n",
    "    \"добрый\": \"злой\"\n",
    "}\n",
    "\n",
    "# Вводим слово, для которого нужно найти синоним\n",
    "word = input(\"Введите слово: \")\n",
    "\n",
    "# Ищем синоним\n",
    "if word in synonyms:\n",
    "    print(synonyms[word])\n",
    "else:\n",
    "    # Если слово не найдено как ключ, проверяем его как значение\n",
    "    for key, value in synonyms.items():\n",
    "        if value == word:\n",
    "            print(key)\n",
    "            break"
   ]
  },
  {
   "cell_type": "markdown",
   "metadata": {},
   "source": [
    "### №21 ***\n",
    "Как известно в США президент выбирается не прямым голосованием, а путём двухуровнего голосования. Сначала проводятся выборы в каждом штате и определяется победитель ввыбоов в данном штате. Затем проводятся государственные выборы: на этихвыборых каждый штат имеет определённое число голосов — число выборщиков от этого штата. Напрактике, все выборщики от штата голосуют в соответствии с результатами голосования внутри штата, то есть на заключительной стадии выборов в голосовании участвуют штаты, имеющие различное число голосов.\n",
    "\n",
    "В превой строке дано количество записей. Далее, каждая запист содержит фамилию кандидата и число голосов, отданных за него в одном из штатов. Подведите итоги выборов: для каждого из участника голосования определите число отданных за него голосов. Участников нужно выводить в алфавитном порядке."
   ]
  },
  {
   "cell_type": "code",
   "execution_count": 12,
   "metadata": {},
   "outputs": [
    {
     "ename": "KeyboardInterrupt",
     "evalue": "Interrupted by user",
     "output_type": "error",
     "traceback": [
      "\u001b[1;31m---------------------------------------------------------------------------\u001b[0m",
      "\u001b[1;31mKeyboardInterrupt\u001b[0m                         Traceback (most recent call last)",
      "Cell \u001b[1;32mIn[12], line 8\u001b[0m\n\u001b[0;32m      5\u001b[0m votes \u001b[38;5;241m=\u001b[39m {}\n\u001b[0;32m      7\u001b[0m \u001b[38;5;28;01mfor\u001b[39;00m _ \u001b[38;5;129;01min\u001b[39;00m \u001b[38;5;28mrange\u001b[39m(n):\n\u001b[1;32m----> 8\u001b[0m     candidate, count \u001b[38;5;241m=\u001b[39m \u001b[38;5;28;43minput\u001b[39;49m\u001b[43m(\u001b[49m\u001b[43m)\u001b[49m\u001b[38;5;241m.\u001b[39msplit()\n\u001b[0;32m      9\u001b[0m     count \u001b[38;5;241m=\u001b[39m to_number(count)\n\u001b[0;32m     10\u001b[0m     votes[candidate] \u001b[38;5;241m=\u001b[39m votes\u001b[38;5;241m.\u001b[39mget(candidate, \u001b[38;5;241m0\u001b[39m) \u001b[38;5;241m+\u001b[39m count\n",
      "File \u001b[1;32mc:\\Users\\katev\\OneDrive\\Рабочий стол\\питоне\\env\\Lib\\site-packages\\ipykernel\\kernelbase.py:1282\u001b[0m, in \u001b[0;36mKernel.raw_input\u001b[1;34m(self, prompt)\u001b[0m\n\u001b[0;32m   1280\u001b[0m     msg \u001b[38;5;241m=\u001b[39m \u001b[38;5;124m\"\u001b[39m\u001b[38;5;124mraw_input was called, but this frontend does not support input requests.\u001b[39m\u001b[38;5;124m\"\u001b[39m\n\u001b[0;32m   1281\u001b[0m     \u001b[38;5;28;01mraise\u001b[39;00m StdinNotImplementedError(msg)\n\u001b[1;32m-> 1282\u001b[0m \u001b[38;5;28;01mreturn\u001b[39;00m \u001b[38;5;28;43mself\u001b[39;49m\u001b[38;5;241;43m.\u001b[39;49m\u001b[43m_input_request\u001b[49m\u001b[43m(\u001b[49m\n\u001b[0;32m   1283\u001b[0m \u001b[43m    \u001b[49m\u001b[38;5;28;43mstr\u001b[39;49m\u001b[43m(\u001b[49m\u001b[43mprompt\u001b[49m\u001b[43m)\u001b[49m\u001b[43m,\u001b[49m\n\u001b[0;32m   1284\u001b[0m \u001b[43m    \u001b[49m\u001b[38;5;28;43mself\u001b[39;49m\u001b[38;5;241;43m.\u001b[39;49m\u001b[43m_parent_ident\u001b[49m\u001b[43m[\u001b[49m\u001b[38;5;124;43m\"\u001b[39;49m\u001b[38;5;124;43mshell\u001b[39;49m\u001b[38;5;124;43m\"\u001b[39;49m\u001b[43m]\u001b[49m\u001b[43m,\u001b[49m\n\u001b[0;32m   1285\u001b[0m \u001b[43m    \u001b[49m\u001b[38;5;28;43mself\u001b[39;49m\u001b[38;5;241;43m.\u001b[39;49m\u001b[43mget_parent\u001b[49m\u001b[43m(\u001b[49m\u001b[38;5;124;43m\"\u001b[39;49m\u001b[38;5;124;43mshell\u001b[39;49m\u001b[38;5;124;43m\"\u001b[39;49m\u001b[43m)\u001b[49m\u001b[43m,\u001b[49m\n\u001b[0;32m   1286\u001b[0m \u001b[43m    \u001b[49m\u001b[43mpassword\u001b[49m\u001b[38;5;241;43m=\u001b[39;49m\u001b[38;5;28;43;01mFalse\u001b[39;49;00m\u001b[43m,\u001b[49m\n\u001b[0;32m   1287\u001b[0m \u001b[43m\u001b[49m\u001b[43m)\u001b[49m\n",
      "File \u001b[1;32mc:\\Users\\katev\\OneDrive\\Рабочий стол\\питоне\\env\\Lib\\site-packages\\ipykernel\\kernelbase.py:1325\u001b[0m, in \u001b[0;36mKernel._input_request\u001b[1;34m(self, prompt, ident, parent, password)\u001b[0m\n\u001b[0;32m   1322\u001b[0m \u001b[38;5;28;01mexcept\u001b[39;00m \u001b[38;5;167;01mKeyboardInterrupt\u001b[39;00m:\n\u001b[0;32m   1323\u001b[0m     \u001b[38;5;66;03m# re-raise KeyboardInterrupt, to truncate traceback\u001b[39;00m\n\u001b[0;32m   1324\u001b[0m     msg \u001b[38;5;241m=\u001b[39m \u001b[38;5;124m\"\u001b[39m\u001b[38;5;124mInterrupted by user\u001b[39m\u001b[38;5;124m\"\u001b[39m\n\u001b[1;32m-> 1325\u001b[0m     \u001b[38;5;28;01mraise\u001b[39;00m \u001b[38;5;167;01mKeyboardInterrupt\u001b[39;00m(msg) \u001b[38;5;28;01mfrom\u001b[39;00m\u001b[38;5;250m \u001b[39m\u001b[38;5;28;01mNone\u001b[39;00m\n\u001b[0;32m   1326\u001b[0m \u001b[38;5;28;01mexcept\u001b[39;00m \u001b[38;5;167;01mException\u001b[39;00m:\n\u001b[0;32m   1327\u001b[0m     \u001b[38;5;28mself\u001b[39m\u001b[38;5;241m.\u001b[39mlog\u001b[38;5;241m.\u001b[39mwarning(\u001b[38;5;124m\"\u001b[39m\u001b[38;5;124mInvalid Message:\u001b[39m\u001b[38;5;124m\"\u001b[39m, exc_info\u001b[38;5;241m=\u001b[39m\u001b[38;5;28;01mTrue\u001b[39;00m)\n",
      "\u001b[1;31mKeyboardInterrupt\u001b[0m: Interrupted by user"
     ]
    }
   ],
   "source": [
    "from toNumber import to_number\n",
    "\n",
    "n = to_number(input(\"Введите количество записей: \"))\n",
    "\n",
    "votes = {}\n",
    "\n",
    "for _ in range(n):\n",
    "    candidate, count = input().split()\n",
    "    count = to_number(count)\n",
    "    votes[candidate] = votes.get(candidate, 0) + count\n",
    "\n",
    "for candidate in sorted(votes):\n",
    "    print(candidate, votes[candidate])"
   ]
  },
  {
   "cell_type": "markdown",
   "metadata": {},
   "source": [
    "### №22\n",
    "При помощи синтаксиса списочных выражений выполните задания:\n",
    "\n",
    "Пусть дан список my_list. Создайте новый список из элементов my_list, которые меньше 5.\n",
    "Пусть дан список my_list. Создайте новый список из элементов my_list, деленных на\n",
    "Пусть дан список my_list. Создайте новый список из элементов my_list, которые больше 17, умножив их на 2.\n",
    "Создайте список, включающий числа от 0 до введённого пользователем, возведённые в квадрат.\n",
    "Используя списочное выражение и метод split, составьте список из введённых чисел, записанных на одной строке без указания заранее их количества; затем выведите их квадраты также на одной строке.\n",
    "Используя списочное выражение и метод split, составьте список из введённых чисел, записанных на одной строке без указания заранее их количества; затем выведите на одной строке только те квадраты нечетных чисел, которые не заканчиваются на цифру 9. Постарайтесь решить данную задачу в одну строку."
   ]
  },
  {
   "cell_type": "code",
   "execution_count": 13,
   "metadata": {},
   "outputs": [
    {
     "name": "stdout",
     "output_type": "stream",
     "text": [
      "Вводите числа для списка (чтобы прекратить напишите \"!\"): \n",
      "Содержание строки – не число!\n",
      "Список сформирован: \n",
      "3 33\n",
      "Задание 1:\n",
      "3\n",
      "Задание 2:\n",
      "1.5 16.5\n",
      "Задание 3:\n",
      "66\n",
      "Содержание строки – не число!\n",
      "Задание 4:\n",
      "0 1 4 9\n",
      "Задание 5:\n",
      "400 400 400 400\n",
      "Задание 6:\n",
      "625 441 1\n"
     ]
    }
   ],
   "source": [
    "my_list = create_list()\n",
    "\n",
    "# 1. Элементы меньше 5\n",
    "new_my_list = [number for number in my_list if number < 5]\n",
    "print(\"Задание 1:\")\n",
    "print(*new_my_list)\n",
    "\n",
    "# 2. Делённых на два\n",
    "new_my_list = [number / 2 for number in my_list]\n",
    "print(\"Задание 2:\")\n",
    "print(*new_my_list)\n",
    "\n",
    "# 3. Больше 17, если умножить на 2\n",
    "new_my_list = [number * 2 for number in my_list if number > 17]\n",
    "print(\"Задание 3:\")\n",
    "print(*new_my_list)\n",
    "\n",
    "# 4. От нуля до числа пользователя, возведённые в квадрат\n",
    "user_number = to_number(input(\"4. Введите число: \"))\n",
    "\n",
    "new_my_list = [number ** 2 for number in range(user_number + 1)]\n",
    "print(\"Задание 4:\")\n",
    "print(*new_my_list)\n",
    "\n",
    "# 5. Строка с числами. Потом каждое выводится в кадрате в одной строке\n",
    "print(\"Задание 5:\")\n",
    "print(*[to_number(x) ** 2 for x in input(\"5. Введите строку с числами через пробел: \").split()])\n",
    "\n",
    "# 6. Квадраты нечётных чисел, не заканчивающиеся на 9, в одну строку\n",
    "print(\"Задание 6:\")\n",
    "print(*[x**2 for x in map(to_number, input(\"5. Введите строку с числами через пробел: \").split()) if x % 2 != 0 and x**2 % 10 != 9])"
   ]
  },
  {
   "cell_type": "markdown",
   "metadata": {},
   "source": [
    "### №23\n",
    "Напишите программу для построения горизонтальных столбчатых диаграмм с помощью символа звёздочки. Выводя строку, не используйте для этого цикл."
   ]
  },
  {
   "cell_type": "code",
   "execution_count": 14,
   "metadata": {},
   "outputs": [
    {
     "name": "stdout",
     "output_type": "stream",
     "text": [
      "********************\n",
      "********************\n",
      "************************\n",
      "************************\n"
     ]
    }
   ],
   "source": [
    "def to_stars(number: int) -> str:\n",
    "    return \"*\" * number\n",
    "\n",
    "print(*map(to_stars, map(to_number, input(\"Введите числа через пробел: \").split())), sep='\\n')"
   ]
  },
  {
   "cell_type": "markdown",
   "metadata": {},
   "source": [
    "### №24\n",
    "Чтобы из трёх отрезков можно было составить треугольник, необходимо и достаточно, чтобы сумма длин любых двух отрезков была строго больше третьего\n",
    "\n",
    "Напишите функцию triangle(a, b, c), которая принимает на вход три длины отрезков и определяет, можно ли из этих отрезков составить треугольник. Ваша функция должная печатать \"Это треугольник\", если составить треугольник можно, если составить треугольник можно, и \"Это не треугольник\"."
   ]
  },
  {
   "cell_type": "code",
   "execution_count": 15,
   "metadata": {},
   "outputs": [
    {
     "name": "stdout",
     "output_type": "stream",
     "text": [
      "Это треугольник!\n"
     ]
    }
   ],
   "source": [
    "def triangle(a: int, b: int, c: int):\n",
    "    if a + b > c or a + c > b or b + c > a:\n",
    "        print(\"Это треугольник!\")\n",
    "        return\n",
    "    \n",
    "    print(\"Это не тругольник!\")\n",
    "\n",
    "\n",
    "a = to_number(input(\"Введите длину отрезка 1: \"))\n",
    "b = to_number(input(\"Введите длину отрезка 2: \"))\n",
    "c = to_number(input(\"Введите длину отрезка 3: \"))\n",
    "\n",
    "triangle(a, b, c)"
   ]
  },
  {
   "cell_type": "markdown",
   "metadata": {},
   "source": [
    "### №25\n",
    "Палиндром — это строка (или слово), которая читается одинаково в обоих направлениях, например, \"12321\" или известный пример Афанасия Фета \"А роза упала на лапу Азора\".\n",
    "\n",
    "Напишите функцию palindrome(s), которая принимает в качестве параметра строку и определяет, является ли она палиндромом. Функция должна возвращать строку \"Палиндром\" или \"Не палиндром\" соответственно."
   ]
  },
  {
   "cell_type": "code",
   "execution_count": 16,
   "metadata": {},
   "outputs": [
    {
     "data": {
      "text/plain": [
       "'Палиндром'"
      ]
     },
     "execution_count": 16,
     "metadata": {},
     "output_type": "execute_result"
    }
   ],
   "source": [
    "def palindrome(s: str):\n",
    "    s = ''.join(char.lower() for char in s if char.isalnum())\n",
    "    if s == s[::-1]: \n",
    "        return \"Палиндром\"\n",
    "    \n",
    "    return \"Не палиндром\"\n",
    "\n",
    "string = input(\"Введите строку\")\n",
    "\n",
    "palindrome(string)"
   ]
  }
 ],
 "metadata": {
  "kernelspec": {
   "display_name": "env",
   "language": "python",
   "name": "python3"
  },
  "language_info": {
   "codemirror_mode": {
    "name": "ipython",
    "version": 3
   },
   "file_extension": ".py",
   "mimetype": "text/x-python",
   "name": "python",
   "nbconvert_exporter": "python",
   "pygments_lexer": "ipython3",
   "version": "3.11.9"
  }
 },
 "nbformat": 4,
 "nbformat_minor": 2
}
